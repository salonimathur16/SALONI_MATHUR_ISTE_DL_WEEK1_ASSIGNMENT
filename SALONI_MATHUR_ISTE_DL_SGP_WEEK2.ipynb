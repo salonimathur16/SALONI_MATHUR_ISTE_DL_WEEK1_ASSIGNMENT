{
  "nbformat": 4,
  "nbformat_minor": 0,
  "metadata": {
    "colab": {
      "name": "SALONI_MATHUR_ISTE DL_SGP_WEEK2.ipynb",
      "provenance": [],
      "collapsed_sections": []
    },
    "kernelspec": {
      "name": "python3",
      "display_name": "Python 3"
    },
    "language_info": {
      "name": "python"
    }
  },
  "cells": [
    {
      "cell_type": "code",
      "metadata": {
        "id": "XuZbgWonnGeE",
        "colab": {
          "base_uri": "https://localhost:8080/"
        },
        "outputId": "095ba3b8-b5fb-4277-e565-f9ea69ceb8ff"
      },
      "source": [
        "from google.colab import drive\n",
        "drive.mount('/content/drive')\n",
        "%cd /content/drive/My Drive/ISTE SGP DL 2021 WEEK-1 Assignment"
      ],
      "execution_count": 1,
      "outputs": [
        {
          "output_type": "stream",
          "text": [
            "Mounted at /content/drive\n",
            "/content/drive/My Drive/ISTE SGP DL 2021 WEEK-1 Assignment\n"
          ],
          "name": "stdout"
        }
      ]
    },
    {
      "cell_type": "code",
      "metadata": {
        "id": "Omrb1QOhnHr3"
      },
      "source": [
        "import numpy as np\n",
        "import matplotlib.pyplot as plt\n",
        "import h5py\n",
        "import scipy\n",
        "from PIL import Image\n",
        "from scipy import ndimage\n",
        "from lr_utils import load_dataset     # for loading dataset\n",
        "\n",
        "%matplotlib inline"
      ],
      "execution_count": 23,
      "outputs": []
    },
    {
      "cell_type": "code",
      "metadata": {
        "id": "6CxjH4JQnNmM"
      },
      "source": [
        "# Loading the data (cat/non-cat)\n",
        "train_set_x, train_set_y, test_set_x, test_set_y, classes = load_dataset()"
      ],
      "execution_count": 24,
      "outputs": []
    },
    {
      "cell_type": "code",
      "metadata": {
        "id": "qiMVrOQlnORV"
      },
      "source": [
        "#New libraries needed\n",
        "import tensorflow as tf\n",
        "from tensorflow import keras"
      ],
      "execution_count": 25,
      "outputs": []
    },
    {
      "cell_type": "code",
      "metadata": {
        "id": "p9tcp4hancCl"
      },
      "source": [
        "#Normalization \n",
        "train_set_x=train_set_x/255\n",
        "test_set_x=test_set_x/255"
      ],
      "execution_count": 26,
      "outputs": []
    },
    {
      "cell_type": "code",
      "metadata": {
        "colab": {
          "base_uri": "https://localhost:8080/"
        },
        "id": "mESTZ6ZXU14o",
        "outputId": "a18ded55-b7da-427c-86b9-977dde6908c1"
      },
      "source": [
        "print(train_set_x.shape, train_set_y.shape)"
      ],
      "execution_count": 27,
      "outputs": [
        {
          "output_type": "stream",
          "text": [
            "(209, 64, 64, 3) (1, 209)\n"
          ],
          "name": "stdout"
        }
      ]
    },
    {
      "cell_type": "code",
      "metadata": {
        "id": "fUiYzfdypi1Q",
        "colab": {
          "base_uri": "https://localhost:8080/"
        },
        "outputId": "d853a1a1-4e0e-4df1-dbda-149756ac45a6"
      },
      "source": [
        "model=keras.Sequential([\n",
        "                        keras.layers.Flatten(), #Here we are feeding our input image into the neural network, one parameter only\n",
        "                  \n",
        "                        keras.layers.Dense(1 , activation=\"sigmoid\") #Here you decide the number of output neurons you have, and the actovation function you'd be using for this last layer. \n",
        "                                                                    #The parameters to be entered are in the order mentioned above. It has two parameters\n",
        "])\n",
        "model.compile(optimizer='adam',loss='binary_crossentropy',metrics=['accuracy'])         \n",
        "model.fit(train_set_x,train_set_y.T,epochs=5) #Why is the train_set_y passed as it's transpose for the function\n",
        "                                                #Feel free to run the model for as many epochs as you'd like and see if you get better results"
      ],
      "execution_count": 28,
      "outputs": [
        {
          "output_type": "stream",
          "text": [
            "Epoch 1/5\n",
            "7/7 [==============================] - 0s 3ms/step - loss: 1.1397 - accuracy: 0.4928\n",
            "Epoch 2/5\n",
            "7/7 [==============================] - 0s 3ms/step - loss: 0.8608 - accuracy: 0.6507\n",
            "Epoch 3/5\n",
            "7/7 [==============================] - 0s 3ms/step - loss: 0.7747 - accuracy: 0.5646\n",
            "Epoch 4/5\n",
            "7/7 [==============================] - 0s 3ms/step - loss: 0.7313 - accuracy: 0.5598\n",
            "Epoch 5/5\n",
            "7/7 [==============================] - 0s 3ms/step - loss: 0.6274 - accuracy: 0.6555\n"
          ],
          "name": "stdout"
        },
        {
          "output_type": "execute_result",
          "data": {
            "text/plain": [
              "<tensorflow.python.keras.callbacks.History at 0x7fa11427c9d0>"
            ]
          },
          "metadata": {
            "tags": []
          },
          "execution_count": 28
        }
      ]
    },
    {
      "cell_type": "code",
      "metadata": {
        "id": "P9HpxNSILqkF",
        "colab": {
          "base_uri": "https://localhost:8080/"
        },
        "outputId": "4ce08df8-0223-499b-bdb4-8b7d348ff205"
      },
      "source": [
        "model.evaluate(test_set_x,test_set_y.T)            #Expected accuracy is around 80%"
      ],
      "execution_count": 29,
      "outputs": [
        {
          "output_type": "stream",
          "text": [
            "WARNING:tensorflow:6 out of the last 11 calls to <function Model.make_test_function.<locals>.test_function at 0x7fa114ab93b0> triggered tf.function retracing. Tracing is expensive and the excessive number of tracings could be due to (1) creating @tf.function repeatedly in a loop, (2) passing tensors with different shapes, (3) passing Python objects instead of tensors. For (1), please define your @tf.function outside of the loop. For (2), @tf.function has experimental_relax_shapes=True option that relaxes argument shapes that can avoid unnecessary retracing. For (3), please refer to https://www.tensorflow.org/guide/function#controlling_retracing and https://www.tensorflow.org/api_docs/python/tf/function for  more details.\n",
            "2/2 [==============================] - 0s 10ms/step - loss: 0.5573 - accuracy: 0.8000\n"
          ],
          "name": "stdout"
        },
        {
          "output_type": "execute_result",
          "data": {
            "text/plain": [
              "[0.5573287010192871, 0.800000011920929]"
            ]
          },
          "metadata": {
            "tags": []
          },
          "execution_count": 29
        }
      ]
    },
    {
      "cell_type": "code",
      "metadata": {
        "id": "670oI_5U9Zj2"
      },
      "source": [
        "#Couple of things you could try after evaluating the model: Try overfitting the model, by training for more number of epochs\n",
        "                                                        #.  Implement a keras.dropout() and see if your models accuracy improves\n",
        "                                                        #.  You can even add more number of dense layers and see how your model reacts."
      ],
      "execution_count": null,
      "outputs": []
    }
  ]
}